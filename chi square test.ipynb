{
 "cells": [
  {
   "cell_type": "code",
   "execution_count": null,
   "id": "ef44f6f4",
   "metadata": {},
   "outputs": [],
   "source": [
    "n = int(input(\"Enter the number of observations : \"))\n",
    "print(\"\\n\")\n",
    "h = []\n",
    "o = []\n",
    "ot = 0\n",
    "for i in range(n):\n",
    "    h.append(i+1)\n",
    "    x=int(input(f\"Enter observation {i+1} \"))\n",
    "    ot +=x\n",
    "    o.append(x)\n",
    "print(\"\\n\")\n",
    "a = input(\"Are the probabilities of each event same?(Y/N) \")\n",
    "e = []\n",
    "et = 0\n",
    "if a == \"Y\" or a==\"y\":\n",
    "    for i in range(n):\n",
    "        et+=round(ot/n)\n",
    "        e.append(round(ot/n))\n",
    "else:\n",
    "    p = []\n",
    "    for i in range(n):\n",
    "        x=int(input(f\"Enter possibility of event {i+1} \"))\n",
    "        p.append(x)\n",
    "    for i in range(n):\n",
    "        et+=round(p[i]*(ot/sum(p)))\n",
    "        e.append(round(p[i]*(ot/sum(p))))\n",
    "print(\"\\n\")\n",
    "chisq = 0\n",
    "for i in range(n):\n",
    "    chisq += ((o[i]-e[i])**2)/e[i]\n",
    "table = []\n",
    "h1 = [\"No. of observation\"]\n",
    "h1.append(h)\n",
    "h1.append(\"Total\")\n",
    "o1 = [\"Observation\"]\n",
    "o1.append(o)\n",
    "o1.append(ot)\n",
    "e1 = [\"Estimation\"]\n",
    "e1.append(e)\n",
    "e1.append(et)\n",
    "table.append(h1)\n",
    "table.append(o1)\n",
    "table.append(e1)\n",
    "for item in table:\n",
    "    testcase, original, clean = item\n",
    "    print (\"{:<20}\".format(testcase),end=\"\")\n",
    "    for object in original:\n",
    "        print(\"{:<5}\".format(str(object)),end=\"\")\n",
    "    print (\"{:<10}\".format(clean))\n",
    "print(\"\\nthe chi square value is \",chisq)"
   ]
  },
  {
   "cell_type": "code",
   "execution_count": null,
   "id": "afdb2de1",
   "metadata": {},
   "outputs": [],
   "source": []
  }
 ],
 "metadata": {
  "kernelspec": {
   "display_name": "Python 3 (ipykernel)",
   "language": "python",
   "name": "python3"
  },
  "language_info": {
   "codemirror_mode": {
    "name": "ipython",
    "version": 3
   },
   "file_extension": ".py",
   "mimetype": "text/x-python",
   "name": "python",
   "nbconvert_exporter": "python",
   "pygments_lexer": "ipython3",
   "version": "3.9.13"
  }
 },
 "nbformat": 4,
 "nbformat_minor": 5
}
